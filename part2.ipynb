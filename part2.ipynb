{
  "cells": [
    {
      "cell_type": "code",
<<<<<<< HEAD:part2.ipynb
      "execution_count": 1,
=======
<<<<<<< HEAD
      "execution_count": 2,
=======
      "execution_count": 32,
>>>>>>> cd507e3801a664fdf81f5983fc49e7fb6e6ef30b
>>>>>>> 64e5fd35b2369b71b0d43960fc07567634466a17:main2.ipynb
      "metadata": {
        "id": "W5U4CcIlKTKQ"
      },
      "outputs": [],
      "source": [
        "import numpy as np\n",
        "import pandas as pd\n",
        "import seaborn as sns\n",
        "from sklearn.model_selection import train_test_split\n",
        "from sklearn import svm\n",
        "from sklearn.ensemble import GradientBoostingClassifier\n",
        "from sklearn.neighbors import KNeighborsClassifier\n",
        "from sklearn.naive_bayes import GaussianNB\n",
        "import matplotlib.pyplot as plt\n",
        "from sklearn.metrics import accuracy_score\n",
        "from sklearn.linear_model import LogisticRegression\n",
        "from sklearn.metrics import classification_report\n",
        "from sklearn.metrics import confusion_matrix\n",
        "from sklearn.ensemble import RandomForestClassifier\n",
        "\n",
        "\n"
      ]
    },
    {
      "cell_type": "code",
<<<<<<< HEAD:part2.ipynb
      "execution_count": 2,
=======
<<<<<<< HEAD
      "execution_count": 3,
=======
      "execution_count": 33,
>>>>>>> cd507e3801a664fdf81f5983fc49e7fb6e6ef30b
>>>>>>> 64e5fd35b2369b71b0d43960fc07567634466a17:main2.ipynb
      "metadata": {
        "id": "mgxNCr7rMPSY"
      },
      "outputs": [],
      "source": [
        "dataset = pd.read_csv('dataset.csv')"
      ]
    },
    {
      "cell_type": "code",
<<<<<<< HEAD:part2.ipynb
      "execution_count": 3,
=======
<<<<<<< HEAD
      "execution_count": 4,
=======
      "execution_count": 34,
>>>>>>> cd507e3801a664fdf81f5983fc49e7fb6e6ef30b
>>>>>>> 64e5fd35b2369b71b0d43960fc07567634466a17:main2.ipynb
      "metadata": {
        "colab": {
          "base_uri": "https://localhost:8080/",
          "height": 243
        },
        "id": "TWcwO8sTMXYS",
        "outputId": "ee639dfa-0b62-4a87-9f62-8866eed32769"
      },
      "outputs": [
        {
          "data": {
            "text/html": [
              "<div>\n",
              "<style scoped>\n",
              "    .dataframe tbody tr th:only-of-type {\n",
              "        vertical-align: middle;\n",
              "    }\n",
              "\n",
              "    .dataframe tbody tr th {\n",
              "        vertical-align: top;\n",
              "    }\n",
              "\n",
              "    .dataframe thead th {\n",
              "        text-align: right;\n",
              "    }\n",
              "</style>\n",
              "<table border=\"1\" class=\"dataframe\">\n",
              "  <thead>\n",
              "    <tr style=\"text-align: right;\">\n",
              "      <th></th>\n",
              "      <th>Loan_ID</th>\n",
              "      <th>Gender</th>\n",
              "      <th>Married</th>\n",
              "      <th>Dependents</th>\n",
              "      <th>Education</th>\n",
              "      <th>Self_Employed</th>\n",
              "      <th>ApplicantIncome</th>\n",
              "      <th>CoapplicantIncome</th>\n",
              "      <th>LoanAmount</th>\n",
              "      <th>Loan_Amount_Term</th>\n",
              "      <th>Credit_History</th>\n",
              "      <th>Property_Area</th>\n",
              "      <th>Loan_Status</th>\n",
              "    </tr>\n",
              "  </thead>\n",
              "  <tbody>\n",
              "    <tr>\n",
              "      <th>0</th>\n",
              "      <td>LP001002</td>\n",
              "      <td>Male</td>\n",
              "      <td>No</td>\n",
              "      <td>0</td>\n",
              "      <td>Graduate</td>\n",
              "      <td>No</td>\n",
              "      <td>5849</td>\n",
              "      <td>0.0</td>\n",
              "      <td>NaN</td>\n",
              "      <td>360.0</td>\n",
              "      <td>1.0</td>\n",
              "      <td>Urban</td>\n",
              "      <td>Y</td>\n",
              "    </tr>\n",
              "    <tr>\n",
              "      <th>1</th>\n",
              "      <td>LP001003</td>\n",
              "      <td>Male</td>\n",
              "      <td>Yes</td>\n",
              "      <td>1</td>\n",
              "      <td>Graduate</td>\n",
              "      <td>No</td>\n",
              "      <td>4583</td>\n",
              "      <td>1508.0</td>\n",
              "      <td>128.0</td>\n",
              "      <td>360.0</td>\n",
              "      <td>1.0</td>\n",
              "      <td>Rural</td>\n",
              "      <td>N</td>\n",
              "    </tr>\n",
              "    <tr>\n",
              "      <th>2</th>\n",
              "      <td>LP001005</td>\n",
              "      <td>Male</td>\n",
              "      <td>Yes</td>\n",
              "      <td>0</td>\n",
              "      <td>Graduate</td>\n",
              "      <td>Yes</td>\n",
              "      <td>3000</td>\n",
              "      <td>0.0</td>\n",
              "      <td>66.0</td>\n",
              "      <td>360.0</td>\n",
              "      <td>1.0</td>\n",
              "      <td>Urban</td>\n",
              "      <td>Y</td>\n",
              "    </tr>\n",
              "    <tr>\n",
              "      <th>3</th>\n",
              "      <td>LP001006</td>\n",
              "      <td>Male</td>\n",
              "      <td>Yes</td>\n",
              "      <td>0</td>\n",
              "      <td>Not Graduate</td>\n",
              "      <td>No</td>\n",
              "      <td>2583</td>\n",
              "      <td>2358.0</td>\n",
              "      <td>120.0</td>\n",
              "      <td>360.0</td>\n",
              "      <td>1.0</td>\n",
              "      <td>Urban</td>\n",
              "      <td>Y</td>\n",
              "    </tr>\n",
              "    <tr>\n",
              "      <th>4</th>\n",
              "      <td>LP001008</td>\n",
              "      <td>Male</td>\n",
              "      <td>No</td>\n",
              "      <td>0</td>\n",
              "      <td>Graduate</td>\n",
              "      <td>No</td>\n",
              "      <td>6000</td>\n",
              "      <td>0.0</td>\n",
              "      <td>141.0</td>\n",
              "      <td>360.0</td>\n",
              "      <td>1.0</td>\n",
              "      <td>Urban</td>\n",
              "      <td>Y</td>\n",
              "    </tr>\n",
              "  </tbody>\n",
              "</table>\n",
              "</div>"
            ],
            "text/plain": [
              "    Loan_ID Gender Married Dependents     Education Self_Employed  \\\n",
              "0  LP001002   Male      No          0      Graduate            No   \n",
              "1  LP001003   Male     Yes          1      Graduate            No   \n",
              "2  LP001005   Male     Yes          0      Graduate           Yes   \n",
              "3  LP001006   Male     Yes          0  Not Graduate            No   \n",
              "4  LP001008   Male      No          0      Graduate            No   \n",
              "\n",
              "   ApplicantIncome  CoapplicantIncome  LoanAmount  Loan_Amount_Term  \\\n",
              "0             5849                0.0         NaN             360.0   \n",
              "1             4583             1508.0       128.0             360.0   \n",
              "2             3000                0.0        66.0             360.0   \n",
              "3             2583             2358.0       120.0             360.0   \n",
              "4             6000                0.0       141.0             360.0   \n",
              "\n",
              "   Credit_History Property_Area Loan_Status  \n",
              "0             1.0         Urban           Y  \n",
              "1             1.0         Rural           N  \n",
              "2             1.0         Urban           Y  \n",
              "3             1.0         Urban           Y  \n",
              "4             1.0         Urban           Y  "
            ]
          },
<<<<<<< HEAD:part2.ipynb
          "execution_count": 3,
=======
<<<<<<< HEAD
          "execution_count": 4,
=======
          "execution_count": 34,
>>>>>>> cd507e3801a664fdf81f5983fc49e7fb6e6ef30b
>>>>>>> 64e5fd35b2369b71b0d43960fc07567634466a17:main2.ipynb
          "metadata": {},
          "output_type": "execute_result"
        }
      ],
      "source": [
        "dataset.head()"
      ]
    },
    {
      "cell_type": "code",
<<<<<<< HEAD:part2.ipynb
      "execution_count": 4,
=======
<<<<<<< HEAD
      "execution_count": 5,
=======
      "execution_count": 35,
>>>>>>> cd507e3801a664fdf81f5983fc49e7fb6e6ef30b
>>>>>>> 64e5fd35b2369b71b0d43960fc07567634466a17:main2.ipynb
      "metadata": {
        "colab": {
          "base_uri": "https://localhost:8080/"
        },
        "id": "wcTJYqhnNhlq",
        "outputId": "27593c9d-e83d-4ed3-f8c5-a49c552e1519"
      },
      "outputs": [
        {
          "data": {
            "text/plain": [
              "(614, 13)"
            ]
          },
<<<<<<< HEAD:part2.ipynb
          "execution_count": 4,
=======
<<<<<<< HEAD
          "execution_count": 5,
=======
          "execution_count": 35,
>>>>>>> cd507e3801a664fdf81f5983fc49e7fb6e6ef30b
>>>>>>> 64e5fd35b2369b71b0d43960fc07567634466a17:main2.ipynb
          "metadata": {},
          "output_type": "execute_result"
        }
      ],
      "source": [
        "dataset.shape"
      ]
    },
    {
      "cell_type": "code",
<<<<<<< HEAD:part2.ipynb
      "execution_count": 5,
=======
<<<<<<< HEAD
      "execution_count": 6,
=======
      "execution_count": 36,
>>>>>>> cd507e3801a664fdf81f5983fc49e7fb6e6ef30b
>>>>>>> 64e5fd35b2369b71b0d43960fc07567634466a17:main2.ipynb
      "metadata": {
        "colab": {
          "base_uri": "https://localhost:8080/"
        },
        "id": "tiL9ueIKNnnx",
        "outputId": "80352ea2-9a4c-438c-cf1d-bcf4557e6c6a"
      },
      "outputs": [
        {
          "name": "stdout",
          "output_type": "stream",
          "text": [
            "<class 'pandas.core.frame.DataFrame'>\n",
            "RangeIndex: 614 entries, 0 to 613\n",
            "Data columns (total 13 columns):\n",
            " #   Column             Non-Null Count  Dtype  \n",
            "---  ------             --------------  -----  \n",
            " 0   Loan_ID            614 non-null    object \n",
            " 1   Gender             601 non-null    object \n",
            " 2   Married            611 non-null    object \n",
            " 3   Dependents         599 non-null    object \n",
            " 4   Education          614 non-null    object \n",
            " 5   Self_Employed      582 non-null    object \n",
            " 6   ApplicantIncome    614 non-null    int64  \n",
            " 7   CoapplicantIncome  614 non-null    float64\n",
            " 8   LoanAmount         592 non-null    float64\n",
            " 9   Loan_Amount_Term   600 non-null    float64\n",
            " 10  Credit_History     564 non-null    float64\n",
            " 11  Property_Area      614 non-null    object \n",
            " 12  Loan_Status        614 non-null    object \n",
            "dtypes: float64(4), int64(1), object(8)\n",
            "memory usage: 62.5+ KB\n"
          ]
        }
      ],
      "source": [
        "dataset.info()"
      ]
    },
    {
      "cell_type": "code",
<<<<<<< HEAD:part2.ipynb
      "execution_count": 6,
=======
<<<<<<< HEAD
      "execution_count": 7,
=======
      "execution_count": 37,
>>>>>>> cd507e3801a664fdf81f5983fc49e7fb6e6ef30b
>>>>>>> 64e5fd35b2369b71b0d43960fc07567634466a17:main2.ipynb
      "metadata": {
        "colab": {
          "base_uri": "https://localhost:8080/"
        },
        "id": "9MwohoWOOAla",
        "outputId": "091f952d-d181-415f-fc3b-84de6b157559"
      },
      "outputs": [
        {
          "data": {
            "text/plain": [
              "Loan_ID               0\n",
              "Gender               13\n",
              "Married               3\n",
              "Dependents           15\n",
              "Education             0\n",
              "Self_Employed        32\n",
              "ApplicantIncome       0\n",
              "CoapplicantIncome     0\n",
              "LoanAmount           22\n",
              "Loan_Amount_Term     14\n",
              "Credit_History       50\n",
              "Property_Area         0\n",
              "Loan_Status           0\n",
              "dtype: int64"
            ]
          },
<<<<<<< HEAD:part2.ipynb
          "execution_count": 6,
=======
<<<<<<< HEAD
          "execution_count": 7,
=======
          "execution_count": 37,
>>>>>>> cd507e3801a664fdf81f5983fc49e7fb6e6ef30b
>>>>>>> 64e5fd35b2369b71b0d43960fc07567634466a17:main2.ipynb
          "metadata": {},
          "output_type": "execute_result"
        }
      ],
      "source": [
        "dataset.isnull().sum()"
      ]
    },
    {
      "cell_type": "code",
<<<<<<< HEAD:part2.ipynb
      "execution_count": 7,
=======
<<<<<<< HEAD
      "execution_count": 8,
=======
      "execution_count": 38,
>>>>>>> cd507e3801a664fdf81f5983fc49e7fb6e6ef30b
>>>>>>> 64e5fd35b2369b71b0d43960fc07567634466a17:main2.ipynb
      "metadata": {
        "id": "bUwfUOqWPAMl"
      },
      "outputs": [],
      "source": [
        "dataset = dataset.dropna()"
      ]
    },
    {
      "cell_type": "code",
<<<<<<< HEAD:part2.ipynb
      "execution_count": 8,
=======
<<<<<<< HEAD
      "execution_count": 9,
=======
      "execution_count": 39,
>>>>>>> cd507e3801a664fdf81f5983fc49e7fb6e6ef30b
>>>>>>> 64e5fd35b2369b71b0d43960fc07567634466a17:main2.ipynb
      "metadata": {
        "colab": {
          "base_uri": "https://localhost:8080/"
        },
        "id": "dDjGj64ePExB",
        "outputId": "43509453-44a9-4e4c-9ea3-d493d25fa8a1"
      },
      "outputs": [
        {
          "data": {
            "text/plain": [
              "Loan_ID              0\n",
              "Gender               0\n",
              "Married              0\n",
              "Dependents           0\n",
              "Education            0\n",
              "Self_Employed        0\n",
              "ApplicantIncome      0\n",
              "CoapplicantIncome    0\n",
              "LoanAmount           0\n",
              "Loan_Amount_Term     0\n",
              "Credit_History       0\n",
              "Property_Area        0\n",
              "Loan_Status          0\n",
              "dtype: int64"
            ]
          },
<<<<<<< HEAD:part2.ipynb
          "execution_count": 8,
=======
<<<<<<< HEAD
          "execution_count": 9,
=======
          "execution_count": 39,
>>>>>>> cd507e3801a664fdf81f5983fc49e7fb6e6ef30b
>>>>>>> 64e5fd35b2369b71b0d43960fc07567634466a17:main2.ipynb
          "metadata": {},
          "output_type": "execute_result"
        }
      ],
      "source": [
        "dataset.isnull().sum()"
      ]
    },
    {
      "cell_type": "code",
<<<<<<< HEAD:part2.ipynb
      "execution_count": 9,
=======
<<<<<<< HEAD
      "execution_count": 10,
=======
      "execution_count": 40,
>>>>>>> cd507e3801a664fdf81f5983fc49e7fb6e6ef30b
>>>>>>> 64e5fd35b2369b71b0d43960fc07567634466a17:main2.ipynb
      "metadata": {
        "id": "m3DGgKYuSWTS"
      },
      "outputs": [],
      "source": [
        "dataset.replace({\"Loan_Status\":{'N':0,'Y':1}},inplace=True)"
      ]
    },
    {
      "cell_type": "code",
      "execution_count": 10,
      "metadata": {
        "colab": {
          "base_uri": "https://localhost:8080/"
        },
        "id": "MUeF3L8xSmrF",
        "outputId": "2a83ee8d-4add-4923-d1b3-0288bebf5dc3"
      },
      "outputs": [
        {
          "name": "stdout",
          "output_type": "stream",
          "text": [
            "<class 'pandas.core.frame.DataFrame'>\n",
            "Int64Index: 480 entries, 1 to 613\n",
            "Data columns (total 13 columns):\n",
            " #   Column             Non-Null Count  Dtype  \n",
            "---  ------             --------------  -----  \n",
            " 0   Loan_ID            480 non-null    object \n",
            " 1   Gender             480 non-null    object \n",
            " 2   Married            480 non-null    object \n",
            " 3   Dependents         480 non-null    object \n",
            " 4   Education          480 non-null    object \n",
            " 5   Self_Employed      480 non-null    object \n",
            " 6   ApplicantIncome    480 non-null    int64  \n",
            " 7   CoapplicantIncome  480 non-null    float64\n",
            " 8   LoanAmount         480 non-null    float64\n",
            " 9   Loan_Amount_Term   480 non-null    float64\n",
            " 10  Credit_History     480 non-null    float64\n",
            " 11  Property_Area      480 non-null    object \n",
            " 12  Loan_Status        480 non-null    int64  \n",
            "dtypes: float64(4), int64(2), object(7)\n",
            "memory usage: 52.5+ KB\n"
          ]
        }
      ],
      "source": [
        "dataset.info()"
      ]
    },
    {
      "cell_type": "code",
      "execution_count": 11,
      "metadata": {
        "colab": {
          "base_uri": "https://localhost:8080/"
        },
        "id": "bx9MzowAUcY_",
        "outputId": "daac2485-54c5-4735-a776-5f83081ddc2e"
      },
      "outputs": [
        {
          "data": {
            "text/plain": [
              "0     274\n",
              "2      85\n",
              "1      80\n",
              "3+     41\n",
              "Name: Dependents, dtype: int64"
            ]
          },
          "execution_count": 11,
          "metadata": {},
          "output_type": "execute_result"
        }
      ],
      "source": [
        "dataset['Dependents'].value_counts()"
      ]
    },
    {
      "cell_type": "code",
      "execution_count": 12,
      "metadata": {
        "id": "tOBysmALVS8O"
      },
      "outputs": [],
      "source": [
        "dataset = dataset.replace(to_replace = '3+', value=4 )"
      ]
    },
    {
      "cell_type": "code",
<<<<<<< HEAD:part2.ipynb
      "execution_count": 13,
=======
<<<<<<< HEAD
      "execution_count": 14,
=======
      "execution_count": 44,
>>>>>>> cd507e3801a664fdf81f5983fc49e7fb6e6ef30b
>>>>>>> 64e5fd35b2369b71b0d43960fc07567634466a17:main2.ipynb
      "metadata": {
        "colab": {
          "base_uri": "https://localhost:8080/",
          "height": 466
        },
        "id": "aU83GhSnmcAz",
        "outputId": "1b18ff6f-c2f1-4adc-c5f4-610c85e0a84c"
      },
      "outputs": [
        {
          "data": {
            "text/plain": [
<<<<<<< HEAD
              "<AxesSubplot: xlabel='Married', ylabel='count'>"
            ]
          },
          "execution_count": 14,
=======
              "<Axes: xlabel='Married', ylabel='count'>"
            ]
          },
<<<<<<< HEAD:part2.ipynb
          "execution_count": 13,
=======
          "execution_count": 44,
>>>>>>> cd507e3801a664fdf81f5983fc49e7fb6e6ef30b
>>>>>>> 64e5fd35b2369b71b0d43960fc07567634466a17:main2.ipynb
          "metadata": {},
          "output_type": "execute_result"
        },
        {
          "data": {
<<<<<<< HEAD
            "image/png": "iVBORw0KGgoAAAANSUhEUgAAAjsAAAGwCAYAAABPSaTdAAAAOXRFWHRTb2Z0d2FyZQBNYXRwbG90bGliIHZlcnNpb24zLjYuMywgaHR0cHM6Ly9tYXRwbG90bGliLm9yZy/P9b71AAAACXBIWXMAAA9hAAAPYQGoP6dpAAApc0lEQVR4nO3df1RVdb7/8dcBFDAEBuTniL8mf6AiKkzG1XFKWSE2zvXHtXRxZ1C5eseRbkqOxkpRyyKbmryZZjkptUaHmjK72UQZpTaGmsxo/iCvekn0KmAqEJiAcL5/dD3fTv4MDuzDx+djrbOWZ+999nlvWsRz7bPPOTa73W4XAACAoTysHgAAAKAlETsAAMBoxA4AADAasQMAAIxG7AAAAKMROwAAwGjEDgAAMJqX1QO4g8bGRp06dUodO3aUzWazehwAAHAT7Ha7vv76a0VGRsrD49rnb4gdSadOnVJUVJTVYwAAgCY4ceKEOnfufM31xI6kjh07Svr2h+Xv72/xNAAA4GZUVVUpKirK8Xf8WogdyfHSlb+/P7EDAEAbc6NLULhAGQAAGI3YAQAARiN2AACA0bhmBwCAm9TQ0KD6+nqrx7hltGvXTp6ens3eD7EDAMAN2O12lZaWqqKiwupRbjmBgYEKDw9v1ufgETsAANzA5dAJDQ1Vhw4d+ADaVmC323XhwgWVl5dLkiIiIpq8L2IHAIDraGhocIROcHCw1ePcUnx9fSVJ5eXlCg0NbfJLWlygDADAdVy+RqdDhw4WT3Jruvxzb861UsQOAAA3gZeurOGKnzuxAwAAjEbsAAAAoxE7AADAaMQOAADNMGXKFI0dO9bqMa5pzZo1io2NlZ+fnwIDAzVo0CBlZ2c71jd1/sWLF2vgwIGuG7QF8dZzAAAMtXbtWs2ePVvPPfecfv7zn6u2tlaff/65Dhw4YPVorYozOwAAtJBt27bpjjvukLe3tyIiIvTwww/r0qVLjvV5eXkaNmyYAgMDFRwcrF/84hc6duyYY/2XX34pm82mjRs36u6771aHDh0UGxurgoKCm3r+//qv/9J9992ntLQ03X777erXr58mT56sxx9/XNK3Z2deeeUVvf3227LZbLLZbNq6daskaf78+erVq5c6dOigHj16aOHChY63f+fk5GjJkiXat2+f43E5OTmOeffu3euYoaKiwmm/58+fV0pKikJCQuTr66uePXtq3bp1zfgp3xhndnBLKnk0xuoR8H+6ZO23egSgRfzv//6vRo8erSlTpujVV1/VF198oenTp8vHx0eLFy+WJNXU1CgjI0MDBgxQdXW1srKyNG7cOO3du1ceHv//fMQjjzyip59+Wj179tQjjzyiyZMn6+jRo/Lyuv6f8fDwcG3btk3Hjx9X165dr1g/d+5cFRUVqaqqyhEcQUFBkqSOHTsqJydHkZGR2r9/v6ZPn66OHTtq3rx5uv/++3XgwAHl5eXpww8/lCQFBASorKzshj+XhQsX6tChQ3rvvffUqVMnHT16VN98881N/UybitgBAKAFrFq1SlFRUXr++edls9nUp08fnTp1SvPnz1dWVpY8PDw0YcIEp8esXbtWISEhOnTokPr37+9YPnfuXN17772SpCVLlqhfv346evSo+vTpc90ZFi1apPHjx6tbt27q1auXEhISNHr0aP3Lv/yLPDw85OfnJ19fX9XW1io8PNzpsQsWLHD8u1u3bpo7d65yc3M1b948+fr6ys/PT15eXlc87kZKSko0aNAgxcfHO/bd0ngZCwCAFlBUVKSEhASnD8UbOnSoqqurdfLkSUnSkSNHNHnyZPXo0UP+/v6OP/wlJSVO+xowYIDj35e/I+ryd0ZdT0REhAoKCrR//349+OCDunTpklJTUzVq1Cg1NjZe97Gvvfaahg4dqvDwcPn5+WnBggVXzNUUM2fOVG5urgYOHKh58+bp008/bfY+b4TYAQDAImPGjNG5c+e0Zs0a7dq1S7t27ZIk1dXVOW3Xrl07x78vx9ONYuW7+vfvr9/+9rf605/+pC1btmjLli3atm3bNbcvKChQSkqKRo8erc2bN+sf//iHHnnkkSvm+r7LL73Z7XbHsu9/zUNycrKOHz+uOXPm6NSpUxo5cqTmzp1708fSFMQOAAAtIDo6WgUFBU5/+Hfs2KGOHTuqc+fOOnv2rA4fPqwFCxZo5MiRio6O1vnz51t8rr59+0r69nohSWrfvr0aGhqctvn000/VtWtXPfLII4qPj1fPnj11/Phxp22u9riQkBBJ0unTpx3Lvnux8ne3S01N1Z/+9CctX75cL730UrOP63q4ZgcAgGaqrKy84o/6jBkztHz5cj3wwANKT0/X4cOHtWjRImVkZMjDw0M/+tGPFBwcrJdeekkREREqKSnRww8/7NK5Zs6cqcjISI0YMUKdO3fW6dOntXTpUoWEhCghIUHSt9fMvP/++zp8+LCCg4MVEBCgnj17qqSkRLm5ufrpT3+qd999V2+99ZbTvrt166bi4mLt3btXnTt3VseOHeXr66s777xTTz75pLp3767y8nKna38kKSsrS3FxcerXr59qa2u1efNmRUdHu/S4v48zOwAANNPWrVs1aNAgp9tjjz2mv/71r9q9e7diY2P1m9/8RmlpaY4//h4eHsrNzVVhYaH69++vOXPm6Pe//71L50pMTNTOnTs1ceJE9erVSxMmTJCPj4/y8/MVHBwsSZo+fbp69+6t+Ph4hYSEaMeOHfrlL3+pOXPmKD09XQMHDtSnn36qhQsXOu17woQJGjVqlO6++26FhIToz3/+s6RvL7K+dOmS4uLiNHv2bC1dutTpce3bt1dmZqYGDBig4cOHy9PTU7m5uS497u+z2b97fu0WVVVVpYCAAFVWVsrf39/qcdAKeOu5++Ct53B3Fy9eVHFxsbp37y4fHx+rx7nlXO/nf7N/vzmzAwAAjEbsAADQRiUnJ8vPz++qtyeeeMLq8dwGFygDANBG/fGPf7zmpw9f/iRkEDsAALRZP/7xj60eoU3gZSwAAGA0YgcAABiN2AEAAEYjdgAAgNGIHQAAYDTejQUAgMXifvdqqz5f4e9/3arPZzXO7AAAgJuycuVKdevWTT4+PhoyZIh2795t9Ug3hdgBAAA39NprrykjI0OLFi3S3//+d8XGxiopKUnl5eVWj3ZDxA4AALihP/zhD5o+fbqmTp2qvn37avXq1erQoYPWrl1r9Wg3ROwAAIDrqqurU2FhoRITEx3LPDw8lJiYqIKCAgsnuznEDgAAuK6vvvpKDQ0NCgsLc1oeFham0tJSi6a6ecQOAAAwGrEDAACuq1OnTvL09FRZWZnT8rKyMoWHh1s01c0jdgAAwHW1b99ecXFxys/PdyxrbGxUfn6+EhISLJzs5vChggAA4IYyMjKUmpqq+Ph43XHHHVq+fLlqamo0depUq0e7IWIHAACLtYVPNL7//vt15swZZWVlqbS0VAMHDlReXt4VFy27I2IHAADclPT0dKWnp1s9xg/GNTsAAMBoxA4AADAasQMAAIxG7AAAAKMROwAAwGjEDgAAMBqxAwAAjEbsAAAAoxE7AADAaJZ+gnJ2drY2btyoL774Qr6+vvqnf/onLVu2TL1793Zsc/HiRT300EPKzc1VbW2tkpKStGrVKqePpy4pKdHMmTP18ccfy8/PT6mpqcrOzpaXFx8QDQBwfyWPxrTq83XJ2t+qz2c1S8/sbNu2TbNmzdLOnTu1ZcsW1dfX65577lFNTY1jmzlz5uidd97RX/7yF23btk2nTp3S+PHjHesbGhp07733qq6uTp9++qleeeUV5eTkKCsry4pDAgDAONu3b9eYMWMUGRkpm82mTZs2WT3SD2LpqY+8vDyn+zk5OQoNDVVhYaGGDx+uyspKvfzyy9qwYYNGjBghSVq3bp2io6O1c+dO3Xnnnfrggw906NAhffjhhwoLC9PAgQP12GOPaf78+Vq8eLHat29vxaEBAGCMmpoaxcbGatq0aU4nHNoKt7pmp7KyUpIUFBQkSSosLFR9fb0SExMd2/Tp00ddunRRQUGBJKmgoEAxMTFOL2slJSWpqqpKBw8evOrz1NbWqqqqyukGAACuLjk5WUuXLtW4ceOsHqVJ3CZ2GhsbNXv2bA0dOlT9+/eXJJWWlqp9+/YKDAx02jYsLEylpaWObb7/9fKX71/e5vuys7MVEBDguEVFRbn4aAAAgLtwm9iZNWuWDhw4oNzc3BZ/rszMTFVWVjpuJ06caPHnBAAA1nCLtyulp6dr8+bN2r59uzp37uxYHh4errq6OlVUVDid3SkrK1N4eLhjm927dzvtr6yszLHuary9veXt7e3iowAAAO7I0jM7drtd6enpeuutt/TRRx+pe/fuTuvj4uLUrl075efnO5YdPnxYJSUlSkhIkCQlJCRo//79Ki8vd2yzZcsW+fv7q2/fvq1zIAAAwG1ZemZn1qxZ2rBhg95++2117NjRcY1NQECAfH19FRAQoLS0NGVkZCgoKEj+/v564IEHlJCQoDvvvFOSdM8996hv37761a9+paeeekqlpaVasGCBZs2axdkbAABgbey88MILkqS77rrLafm6des0ZcoUSdKzzz4rDw8PTZgwwelDBS/z9PTU5s2bNXPmTCUkJOi2225TamqqHn300dY6DAAAjFZdXa2jR4867hcXF2vv3r0KCgpSly5dLJzs5tjsdrvd6iGsVlVVpYCAAFVWVsrf39/qcdAKWvvTSnFtt9onuaLtuXjxooqLi9W9e3f5+PhYPY4ltm7dqrvvvvuK5ampqcrJyWnR577ez/9m/367xQXKAADAfd11111qy+dG3Oat5wAAAC2B2AEAAEYjdgAAgNGIHQAAbkJbvmalLXPFz53YAQDgOtq1aydJunDhgsWT3Jou/9wv/3doCt6NBQDAdXh6eiowMNDxSf0dOnSQzWazeCrz2e12XbhwQeXl5QoMDJSnp2eT90XsAABwA5e/a/G7X02E1hEYGHjN77q8WcQOAAA3YLPZFBERodDQUNXX11s9zi2jXbt2zTqjcxmxAwDATfL09HTJH1+0Li5QBgAARiN2AACA0YgdAABgNGIHAAAYjdgBAABGI3YAAIDRiB0AAGA0YgcAABiN2AEAAEYjdgAAgNGIHQAAYDRiBwAAGI3YAQAARiN2AACA0YgdAABgNGIHAAAYjdgBAABGI3YAAIDRiB0AAGA0YgcAABiN2AEAAEYjdgAAgNGIHQAAYDRiBwAAGI3YAQAARiN2AACA0YgdAABgNGIHAAAYjdgBAABGI3YAAIDRiB0AAGA0YgcAABiN2AEAAEYjdgAAgNGIHQAAYDRiBwAAGI3YAQAARiN2AACA0YgdAABgNGIHAAAYjdgBAABGI3YAAIDRiB0AAGA0YgcAABiN2AEAAEYjdgAAgNGIHQAAYDRiBwAAGI3YAQAARiN2AACA0YgdAABgNGIHAAAYjdgBAABGI3YAAIDRiB0AAGA0YgcAABiN2AEAAEazNHa2b9+uMWPGKDIyUjabTZs2bXJaP2XKFNlsNqfbqFGjnLY5d+6cUlJS5O/vr8DAQKWlpam6uroVjwIAALgzS2OnpqZGsbGxWrly5TW3GTVqlE6fPu24/fnPf3Zan5KSooMHD2rLli3avHmztm/frhkzZrT06AAAoI3wsvLJk5OTlZycfN1tvL29FR4eftV1RUVFysvL02effab4+HhJ0ooVKzR69Gg9/fTTioyMvOrjamtrVVtb67hfVVXVxCMAAADuzu2v2dm6datCQ0PVu3dvzZw5U2fPnnWsKygoUGBgoCN0JCkxMVEeHh7atWvXNfeZnZ2tgIAAxy0qKqpFjwEAAFjHrWNn1KhRevXVV5Wfn69ly5Zp27ZtSk5OVkNDgySptLRUoaGhTo/x8vJSUFCQSktLr7nfzMxMVVZWOm4nTpxo0eMAAADWsfRlrBuZNGmS498xMTEaMGCAfvKTn2jr1q0aOXJkk/fr7e0tb29vV4wIAADcnFuf2fm+Hj16qFOnTjp69KgkKTw8XOXl5U7bXLp0SefOnbvmdT4AAODW0qZi5+TJkzp79qwiIiIkSQkJCaqoqFBhYaFjm48++kiNjY0aMmSIVWMCAAA3YunLWNXV1Y6zNJJUXFysvXv3KigoSEFBQVqyZIkmTJig8PBwHTt2TPPmzdPtt9+upKQkSVJ0dLRGjRql6dOna/Xq1aqvr1d6eromTZp0zXdiAQCAW4ulZ3b27NmjQYMGadCgQZKkjIwMDRo0SFlZWfL09NTnn3+uX/7yl+rVq5fS0tIUFxenTz75xOl6m/Xr16tPnz4aOXKkRo8erWHDhumll16y6pAAAICbsfTMzl133SW73X7N9e+///4N9xEUFKQNGza4ciwAAGCQNnXNDgAAwA9F7AAAAKMROwAAwGjEDgAAMBqxAwAAjEbsAAAAoxE7AADAaMQOAAAwGrEDAACMRuwAAACjETsAAMBoxA4AADAasQMAAIxG7AAAAKMROwAAwGjEDgAAMBqxAwAAjEbsAAAAoxE7AADAaMQOAAAwGrEDAACMRuwAAACjETsAAMBoTYqdESNGqKKi4orlVVVVGjFiRHNnAgAAcJkmxc7WrVtVV1d3xfKLFy/qk08+afZQAAAAruL1Qzb+/PPPHf8+dOiQSktLHfcbGhqUl5enH//4x66bDgAAoJl+UOwMHDhQNptNNpvtqi9X+fr6asWKFS4bDgAAoLl+UOwUFxfLbrerR48e2r17t0JCQhzr2rdvr9DQUHl6erp8SAAAgKb6QbHTtWtXSVJjY2OLDAMAAOBqPyh2vuvIkSP6+OOPVV5efkX8ZGVlNXswAAAAV2hS7KxZs0YzZ85Up06dFB4eLpvN5lhns9mIHQAA4DaaFDtLly7V448/rvnz57t6HgAAAJdq0ufsnD9/XhMnTnT1LAAAAC7XpNiZOHGiPvjgA1fPAgAA4HJNehnr9ttv18KFC7Vz507FxMSoXbt2Tuv/4z/+wyXDAQAANJfNbrfbf+iDunfvfu0d2mz6n//5n2YN1dqqqqoUEBCgyspK+fv7Wz0OWkHJozFWj4D/0yVrv9UjAGijbvbvd5PO7BQXFzd5MAAAgNbUpGt2AAAA2oomndmZNm3addevXbu2ScMAAAC4WpNi5/z580736+vrdeDAAVVUVFz1C0IBAACs0qTYeeutt65Y1tjYqJkzZ+onP/lJs4cCAABwFZdds+Ph4aGMjAw9++yzrtolAABAs7n0AuVjx47p0qVLrtwlAABAszTpZayMjAyn+3a7XadPn9a7776r1NRUlwwGAADgCk2KnX/84x9O9z08PBQSEqJnnnnmhu/UAgAAaE1Nip2PP/7Y1XMAAAC0iCbFzmVnzpzR4cOHJUm9e/dWSEiIS4YCAABwlSZdoFxTU6Np06YpIiJCw4cP1/DhwxUZGam0tDRduHDB1TMCAAA0WZNiJyMjQ9u2bdM777yjiooKVVRU6O2339a2bdv00EMPuXpGAACAJmvSy1hvvvmm3njjDd11112OZaNHj5avr6/uu+8+vfDCC66aDwAAoFmadGbnwoULCgsLu2J5aGgoL2MBAAC30qTYSUhI0KJFi3Tx4kXHsm+++UZLlixRQkKCy4YDAABoria9jLV8+XKNGjVKnTt3VmxsrCRp37598vb21gcffODSAQEAAJqjSbETExOjI0eOaP369friiy8kSZMnT1ZKSop8fX1dOiAAAEBzNCl2srOzFRYWpunTpzstX7t2rc6cOaP58+e7ZDgAAIDmatI1Oy+++KL69OlzxfJ+/fpp9erVzR4KAADAVZoUO6WlpYqIiLhieUhIiE6fPt3soQAAAFylSbETFRWlHTt2XLF8x44dioyMbPZQAAAArtKka3amT5+u2bNnq76+XiNGjJAk5efna968eXyCMgAAcCtNip3f/e53Onv2rH7729+qrq5OkuTj46P58+crMzPTpQMCAAA0R5Nix2azadmyZVq4cKGKiork6+urnj17ytvb29XzAQAANEuTYucyPz8//fSnP3XVLAAAAC7XrNgBAMDdlDwaY/UI+D9dsvZbPYKkJr4bCwAAoK0gdgAAgNGIHQAAYDRLY2f79u0aM2aMIiMjZbPZtGnTJqf1drtdWVlZioiIkK+vrxITE3XkyBGnbc6dO6eUlBT5+/srMDBQaWlpqq6ubsWjAAAA7szS2KmpqVFsbKxWrlx51fVPPfWUnnvuOa1evVq7du3SbbfdpqSkJF28eNGxTUpKig4ePKgtW7Zo8+bN2r59u2bMmNFahwAAANycpe/GSk5OVnJy8lXX2e12LV++XAsWLNA///M/S5JeffVVhYWFadOmTZo0aZKKioqUl5enzz77TPHx8ZKkFStWaPTo0Xr66af56goAAOC+1+wUFxertLRUiYmJjmUBAQEaMmSICgoKJEkFBQUKDAx0hI4kJSYmysPDQ7t27brmvmtra1VVVeV0AwAAZnLb2CktLZUkhYWFOS0PCwtzrCstLVVoaKjTei8vLwUFBTm2uZrs7GwFBAQ4blFRUS6eHgAAuAu3jZ2WlJmZqcrKSsftxIkTVo8EAABaiNvGTnh4uCSprKzMaXlZWZljXXh4uMrLy53WX7p0SefOnXNsczXe3t7y9/d3ugEAADO5bex0795d4eHhys/PdyyrqqrSrl27lJCQIElKSEhQRUWFCgsLHdt89NFHamxs1JAhQ1p9ZgAA4H4sfTdWdXW1jh496rhfXFysvXv3KigoSF26dNHs2bO1dOlS9ezZU927d9fChQsVGRmpsWPHSpKio6M1atQoTZ8+XatXr1Z9fb3S09M1adIk3okFAAAkWRw7e/bs0d133+24n5GRIUlKTU1VTk6O5s2bp5qaGs2YMUMVFRUaNmyY8vLy5OPj43jM+vXrlZ6erpEjR8rDw0MTJkzQc8891+rHAgAA3JPNbrfbrR7CalVVVQoICFBlZSXX79wi+FZk9+Eu34oMc/D77T5a+vf7Zv9+u+01OwAAAK5A7AAAAKMROwAAwGjEDgAAMBqxAwAAjEbsAAAAoxE7AADAaMQOAAAwGrEDAACMRuwAAACjETsAAMBoxA4AADAasQMAAIxG7AAAAKMROwAAwGjEDgAAMBqxAwAAjOZl9QC3irjfvWr1CPiOtzpaPQEAoLVwZgcAABiN2AEAAEYjdgAAgNGIHQAAYDRiBwAAGI3YAQAARiN2AACA0YgdAABgNGIHAAAYjdgBAABGI3YAAIDRiB0AAGA0YgcAABiN2AEAAEYjdgAAgNGIHQAAYDRiBwAAGI3YAQAARiN2AACA0YgdAABgNGIHAAAYjdgBAABGI3YAAIDRiB0AAGA0YgcAABiN2AEAAEYjdgAAgNGIHQAAYDRiBwAAGI3YAQAARvOyegAAaOvifveq1SPgO97qaPUEcDec2QEAAEYjdgAAgNGIHQAAYDRiBwAAGI3YAQAARiN2AACA0YgdAABgNGIHAAAYjdgBAABGI3YAAIDRiB0AAGA0YgcAABiN2AEAAEYjdgAAgNGIHQAAYDRiBwAAGI3YAQAARiN2AACA0dw6dhYvXiybzeZ069Onj2P9xYsXNWvWLAUHB8vPz08TJkxQWVmZhRMDAAB349axI0n9+vXT6dOnHbe//e1vjnVz5szRO++8o7/85S/atm2bTp06pfHjx1s4LQAAcDdeVg9wI15eXgoPD79ieWVlpV5++WVt2LBBI0aMkCStW7dO0dHR2rlzp+68885r7rO2tla1tbWO+1VVVa4fHAAAuAW3P7Nz5MgRRUZGqkePHkpJSVFJSYkkqbCwUPX19UpMTHRs26dPH3Xp0kUFBQXX3Wd2drYCAgIct6ioqBY9BgAAYB23jp0hQ4YoJydHeXl5euGFF1RcXKyf/exn+vrrr1VaWqr27dsrMDDQ6TFhYWEqLS297n4zMzNVWVnpuJ04caIFjwIAAFjJrV/GSk5Odvx7wIABGjJkiLp27arXX39dvr6+Td6vt7e3vL29XTEiAABwc259Zuf7AgMD1atXLx09elTh4eGqq6tTRUWF0zZlZWVXvcYHAADcmtpU7FRXV+vYsWOKiIhQXFyc2rVrp/z8fMf6w4cPq6SkRAkJCRZOCQAA3Ilbv4w1d+5cjRkzRl27dtWpU6e0aNEieXp6avLkyQoICFBaWpoyMjIUFBQkf39/PfDAA0pISLjuO7EAAMCtxa1j5+TJk5o8ebLOnj2rkJAQDRs2TDt37lRISIgk6dlnn5WHh4cmTJig2tpaJSUladWqVRZPDQAA3Ilbx05ubu511/v4+GjlypVauXJlK00EAADamjZ1zQ4AAMAPRewAAACjETsAAMBoxA4AADAasQMAAIxG7AAAAKMROwAAwGjEDgAAMBqxAwAAjEbsAAAAoxE7AADAaMQOAAAwGrEDAACMRuwAAACjETsAAMBoxA4AADAasQMAAIxG7AAAAKMROwAAwGjEDgAAMBqxAwAAjEbsAAAAoxE7AADAaMQOAAAwGrEDAACMRuwAAACjETsAAMBoxA4AADAasQMAAIxG7AAAAKMROwAAwGjEDgAAMBqxAwAAjEbsAAAAoxE7AADAaMQOAAAwGrEDAACMRuwAAACjETsAAMBoxA4AADAasQMAAIxG7AAAAKMROwAAwGjEDgAAMBqxAwAAjEbsAAAAoxE7AADAaMQOAAAwGrEDAACMRuwAAACjETsAAMBoxA4AADAasQMAAIxG7AAAAKMROwAAwGjEDgAAMBqxAwAAjEbsAAAAoxE7AADAaMQOAAAwGrEDAACMRuwAAACjETsAAMBoxA4AADAasQMAAIxG7AAAAKMZEzsrV65Ut27d5OPjoyFDhmj37t1WjwQAANyAEbHz2muvKSMjQ4sWLdLf//53xcbGKikpSeXl5VaPBgAALGZE7PzhD3/Q9OnTNXXqVPXt21erV69Whw4dtHbtWqtHAwAAFvOyeoDmqqurU2FhoTIzMx3LPDw8lJiYqIKCgqs+pra2VrW1tY77lZWVkqSqqqoWm7Oh9psW2zd+uK/bNVg9Av5PS/7etRZ+v90Lv9/uo6V/vy/v3263X3e7Nh87X331lRoaGhQWFua0PCwsTF988cVVH5Odna0lS5ZcsTwqKqpFZoT76W/1APj/sgOsngCG4ffbjbTS7/fXX3+tgIBrP1ebj52myMzMVEZGhuN+Y2Ojzp07p+DgYNlsNgsnQ2uoqqpSVFSUTpw4IX9/f6vHAeBC/H7fWux2u77++mtFRkZed7s2HzudOnWSp6enysrKnJaXlZUpPDz8qo/x9vaWt7e307LAwMCWGhFuyt/fn/8ZAobi9/vWcb0zOpe1+QuU27dvr7i4OOXn5zuWNTY2Kj8/XwkJCRZOBgAA3EGbP7MjSRkZGUpNTVV8fLzuuOMOLV++XDU1NZo6darVowEAAIsZETv333+/zpw5o6ysLJWWlmrgwIHKy8u74qJlQPr2ZcxFixZd8VImgLaP329cjc1+o/drAQAAtGFt/podAACA6yF2AACA0YgdAABgNGIHAAAYjdiBMex2uxITE5WUlHTFulWrVikwMFAnT560YDIArjRlyhTZbDY9+eSTTss3bdrEp+DjqogdGMNms2ndunXatWuXXnzxRcfy4uJizZs3TytWrFDnzp0tnBCAq/j4+GjZsmU6f/681aOgDSB2YJSoqCj953/+p+bOnavi4mLZ7XalpaXpnnvu0aBBg5ScnCw/Pz+FhYXpV7/6lb766ivHY9944w3FxMTI19dXwcHBSkxMVE1NjYVHA+BaEhMTFR4eruzs7Gtu8+abb6pfv37y9vZWt27d9Mwzz7TihHAnxA6Mk5qaqpEjR2ratGl6/vnndeDAAb344osaMWKEBg0apD179igvL09lZWW67777JEmnT5/W5MmTNW3aNBUVFWnr1q0aP368+BgqwD15enrqiSee0IoVK6768nRhYaHuu+8+TZo0Sfv379fixYu1cOFC5eTktP6wsBwfKggjlZeXq1+/fjp37pzefPNNHThwQJ988onef/99xzYnT55UVFSUDh8+rOrqasXFxenLL79U165dLZwcwI1MmTJFFRUV2rRpkxISEtS3b1+9/PLL2rRpk8aNGye73a6UlBSdOXNGH3zwgeNx8+bN07vvvquDBw9aOD2swJkdGCk0NFT//u//rujoaI0dO1b79u3Txx9/LD8/P8etT58+kqRjx44pNjZWI0eOVExMjCZOnKg1a9ZwLQDQBixbtkyvvPKKioqKnJYXFRVp6NChTsuGDh2qI0eOqKGhoTVHhBsgdmAsLy8veXl9+/Vv1dXVGjNmjPbu3et0O3LkiIYPHy5PT09t2bJF7733nvr27asVK1aod+/eKi4utvgoAFzP8OHDlZSUpMzMTKtHgRsz4otAgRsZPHiw3nzzTXXr1s0RQN9ns9k0dOhQDR06VFlZWerataveeustZWRktPK0AH6IJ598UgMHDlTv3r0dy6Kjo7Vjxw6n7Xbs2KFevXrJ09OztUeExTizg1vCrFmzdO7cOU2ePFmfffaZjh07pvfff19Tp05VQ0ODdu3apSeeeEJ79uxRSUmJNm7cqDNnzig6Otrq0QHcQExMjFJSUvTcc885lj300EPKz8/XY489pv/+7//WK6+8oueff15z5861cFJYhdjBLSEyMlI7duxQQ0OD7rnnHsXExGj27NkKDAyUh4eH/P39tX37do0ePVq9evXSggUL9Mwzzyg5Odnq0QHchEcffVSNjY2O+4MHD9brr7+u3Nxc9e/fX1lZWXr00Uc1ZcoU64aEZXg3FgAAMBpndgAAgNGIHQAAYDRiBwAAGI3YAQAARiN2AACA0YgdAABgNGIHAAAYjdgBAABGI3YA3JK6deum5cuXN2sfixcv1sCBA10yD4CWQ+wAsMyUKVNks9n0m9/85op1s2bNks1ma7GP9//ss880Y8aMFtk3APdC7ACwVFRUlHJzc/XNN984ll28eFEbNmxQly5dmrXv+vr6K5bV1dVJkkJCQtShQ4dm7R9A20DsALDU4MGDFRUVpY0bNzqWbdy4UV26dNGgQYMcy/Ly8jRs2DAFBgYqODhYv/jFL3Ts2DHH+i+//FI2m02vvfaafv7zn8vHx0fr16/XlClTNHbsWD3++OOKjIxU7969JV35MlZFRYX+7d/+TSEhIfL399eIESO0b98+p1mffPJJhYWFqWPHjkpLS9PFixdb6KcCwJWIHQCWmzZtmtatW+e4v3btWk2dOtVpm5qaGmVkZGjPnj3Kz8+Xh4eHxo0b5/RN15L08MMP68EHH1RRUZGSkpIkSfn5+Tp8+LC2bNmizZs3X3WGiRMnqry8XO+9954KCws1ePBgjRw5UufOnZMkvf7661q8eLGeeOIJ7dmzRxEREVq1apUrfwwAWoiX1QMAwL/+678qMzNTx48flyTt2LFDubm52rp1q2ObCRMmOD1m7dq1CgkJ0aFDh9S/f3/H8tmzZ2v8+PFO295222364x//qPbt21/1+f/2t79p9+7dKi8vl7e3tyTp6aef1qZNm/TGG29oxowZWr58udLS0pSWliZJWrp0qT788EPO7gBtAGd2AFguJCRE9957r3JycrRu3Trde++96tSpk9M2R44c0eTJk9WjRw/5+/urW7dukqSSkhKn7eLj46/Yf0xMzDVDR5L27dun6upqBQcHy8/Pz3ErLi52vFRWVFSkIUOGOD0uISGhKYcLoJVxZgeAW5g2bZrS09MlSStXrrxi/ZgxY9S1a1etWbNGkZGRamxsVP/+/R0XHF922223XfHYqy37rurqakVERDidSbosMDDw5g8CgFsidgC4hVGjRqmurk42m81xrc1lZ8+e1eHDh7VmzRr97Gc/k/TtS0+uMnjwYJWWlsrLy8txxuj7oqOjtWvXLv361792LNu5c6fLZgDQcogdAG7B09NTRUVFjn9/149+9CMFBwfrpZdeUkREhEpKSvTwww+77LkTExOVkJCgsWPH6qmnnlKvXr106tQpvfvuuxo3bpzi4+P14IMPasqUKYqPj9fQoUO1fv16HTx4UD169HDZHABaBtfsAHAb/v7+8vf3v2K5h4eHcnNzVVhYqP79+2vOnDn6/e9/77Lntdls+utf/6rhw4dr6tSp6tWrlyZNmqTjx48rLCxMknT//fdr4cKFmjdvnuLi4nT8+HHNnDnTZTMAaDk2u91ut3oIAACAlsKZHQAAYDRiBwAAGI3YAQAARiN2AACA0YgdAABgNGIHAAAYjdgBAABGI3YAAIDRiB0AAGA0YgcAABiN2AEAAEb7f7iy1sU+07leAAAAAElFTkSuQmCC",
=======
            "image/png": "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",
>>>>>>> cd507e3801a664fdf81f5983fc49e7fb6e6ef30b
            "text/plain": [
              "<Figure size 640x480 with 1 Axes>"
            ]
          },
          "metadata": {},
          "output_type": "display_data"
        }
      ],
      "source": [
        "sns.countplot(x='Married', hue = 'Loan_Status', data = dataset)"
      ]
    },
    {
      "cell_type": "code",
<<<<<<< HEAD:part2.ipynb
      "execution_count": 14,
=======
<<<<<<< HEAD
      "execution_count": 15,
=======
      "execution_count": 45,
>>>>>>> cd507e3801a664fdf81f5983fc49e7fb6e6ef30b
>>>>>>> 64e5fd35b2369b71b0d43960fc07567634466a17:main2.ipynb
      "metadata": {
        "id": "_XdHbSEtqJky"
      },
      "outputs": [],
      "source": [
        "dataset.replace({'Married':{'No':0,'Yes':1},'Gender':{'Male':1,'Female':0},'Self_Employed':{'No':0,'Yes':1},'Property_Area':{'Rural':0,'Semiurban':1,'Urban':2},'Education':{'Graduate':1,'Not Graduate':0}},inplace=True)\n"
      ]
    },
    {
      "cell_type": "code",
<<<<<<< HEAD:part2.ipynb
      "execution_count": 15,
=======
<<<<<<< HEAD
      "execution_count": 16,
=======
      "execution_count": 46,
>>>>>>> cd507e3801a664fdf81f5983fc49e7fb6e6ef30b
>>>>>>> 64e5fd35b2369b71b0d43960fc07567634466a17:main2.ipynb
      "metadata": {
        "id": "vL8pJdzPqJay"
      },
      "outputs": [],
      "source": [
        "X = dataset.drop(columns=['Loan_ID','Loan_Status'],axis=1)\n",
        "Y = dataset['Loan_Status']\n"
      ]
    },
    {
      "cell_type": "code",
<<<<<<< HEAD:part2.ipynb
      "execution_count": 16,
=======
<<<<<<< HEAD
      "execution_count": 17,
=======
      "execution_count": 47,
>>>>>>> cd507e3801a664fdf81f5983fc49e7fb6e6ef30b
>>>>>>> 64e5fd35b2369b71b0d43960fc07567634466a17:main2.ipynb
      "metadata": {
        "colab": {
          "base_uri": "https://localhost:8080/"
        },
        "id": "ObMQQycUqnjO",
        "outputId": "b09186e3-3ac0-4042-f364-2eb9eb22316c"
      },
      "outputs": [
        {
          "name": "stdout",
          "output_type": "stream",
          "text": [
            "     Gender  Married Dependents  Education  Self_Employed  ApplicantIncome  \\\n",
            "1         1        1          1          1              0             4583   \n",
            "2         1        1          0          1              1             3000   \n",
            "3         1        1          0          0              0             2583   \n",
            "4         1        0          0          1              0             6000   \n",
            "5         1        1          2          1              1             5417   \n",
            "..      ...      ...        ...        ...            ...              ...   \n",
            "609       0        0          0          1              0             2900   \n",
            "610       1        1          4          1              0             4106   \n",
            "611       1        1          1          1              0             8072   \n",
            "612       1        1          2          1              0             7583   \n",
            "613       0        0          0          1              1             4583   \n",
            "\n",
            "     CoapplicantIncome  LoanAmount  Loan_Amount_Term  Credit_History  \\\n",
            "1               1508.0       128.0             360.0             1.0   \n",
            "2                  0.0        66.0             360.0             1.0   \n",
            "3               2358.0       120.0             360.0             1.0   \n",
            "4                  0.0       141.0             360.0             1.0   \n",
            "5               4196.0       267.0             360.0             1.0   \n",
            "..                 ...         ...               ...             ...   \n",
            "609                0.0        71.0             360.0             1.0   \n",
            "610                0.0        40.0             180.0             1.0   \n",
            "611              240.0       253.0             360.0             1.0   \n",
            "612                0.0       187.0             360.0             1.0   \n",
            "613                0.0       133.0             360.0             0.0   \n",
            "\n",
            "     Property_Area  \n",
            "1                0  \n",
            "2                2  \n",
            "3                2  \n",
            "4                2  \n",
            "5                2  \n",
            "..             ...  \n",
            "609              0  \n",
            "610              0  \n",
            "611              2  \n",
            "612              2  \n",
            "613              1  \n",
            "\n",
            "[480 rows x 11 columns]\n",
            "1      0\n",
            "2      1\n",
            "3      1\n",
            "4      1\n",
            "5      1\n",
            "      ..\n",
            "609    1\n",
            "610    1\n",
            "611    1\n",
            "612    1\n",
            "613    0\n",
            "Name: Loan_Status, Length: 480, dtype: int64\n"
          ]
        }
      ],
      "source": [
        "print(X)\n",
        "print(Y)\n"
      ]
    },
    {
      "cell_type": "code",
<<<<<<< HEAD:part2.ipynb
      "execution_count": 17,
=======
<<<<<<< HEAD
      "execution_count": 18,
=======
      "execution_count": 48,
>>>>>>> cd507e3801a664fdf81f5983fc49e7fb6e6ef30b
>>>>>>> 64e5fd35b2369b71b0d43960fc07567634466a17:main2.ipynb
      "metadata": {
        "id": "doZp-hn2rXBT"
      },
      "outputs": [],
      "source": [
        "X_train, X_test,y_train,y_test = train_test_split(X,Y,test_size=0.2,stratify=Y,random_state=42)"
      ]
    },
    {
      "cell_type": "code",
      "execution_count": 18,
      "metadata": {},
      "outputs": [
        {
          "name": "stderr",
          "output_type": "stream",
          "text": [
            "d:\\Software\\anaconda3\\Lib\\site-packages\\sklearn\\linear_model\\_logistic.py:458: ConvergenceWarning: lbfgs failed to converge (status=1):\n",
            "STOP: TOTAL NO. of ITERATIONS REACHED LIMIT.\n",
            "\n",
            "Increase the number of iterations (max_iter) or scale the data as shown in:\n",
            "    https://scikit-learn.org/stable/modules/preprocessing.html\n",
            "Please also refer to the documentation for alternative solver options:\n",
            "    https://scikit-learn.org/stable/modules/linear_model.html#logistic-regression\n",
            "  n_iter_i = _check_optimize_result(\n"
          ]
        },
        {
          "name": "stdout",
          "output_type": "stream",
          "text": [
            "Random Forest Accuracy: 0.7916666666666666\n",
            "Gradient Boosting Accuracy: 0.8333333333333334\n",
            "AdaBoost Accuracy: 0.8125\n",
            "Logistic Regression Accuracy: 0.8333333333333334\n",
            "Voting Classifier Accuracy: 0.8333333333333334\n"
          ]
        },
        {
          "name": "stderr",
          "output_type": "stream",
          "text": [
            "d:\\Software\\anaconda3\\Lib\\site-packages\\sklearn\\linear_model\\_logistic.py:458: ConvergenceWarning: lbfgs failed to converge (status=1):\n",
            "STOP: TOTAL NO. of ITERATIONS REACHED LIMIT.\n",
            "\n",
            "Increase the number of iterations (max_iter) or scale the data as shown in:\n",
            "    https://scikit-learn.org/stable/modules/preprocessing.html\n",
            "Please also refer to the documentation for alternative solver options:\n",
            "    https://scikit-learn.org/stable/modules/linear_model.html#logistic-regression\n",
            "  n_iter_i = _check_optimize_result(\n"
          ]
        }
      ],
      "source": [
        "from sklearn.ensemble import RandomForestClassifier, GradientBoostingClassifier, AdaBoostClassifier, VotingClassifier\n",
        "from sklearn.linear_model import LogisticRegression\n",
        "from sklearn.model_selection import train_test_split\n",
        "from sklearn.metrics import precision_score, recall_score, accuracy_score, f1_score\n",
        "\n",
        "#Hyperparameter is estimators\n",
        "rf_clf = RandomForestClassifier()\n",
        "gb_clf = GradientBoostingClassifier()\n",
        "ada_clf = AdaBoostClassifier()\n",
        "lr_clf = LogisticRegression()\n",
        "\n",
        "voting_clf = VotingClassifier(estimators=[('rf', rf_clf), ('gb', gb_clf), ('ada', ada_clf), ('lr', lr_clf)], voting='soft')\n",
        "\n",
        "# Train individual classifiers\n",
        "rf_clf.fit(X_train, y_train)\n",
        "gb_clf.fit(X_train, y_train)\n",
        "ada_clf.fit(X_train, y_train)\n",
        "lr_clf.fit(X_train, y_train)\n",
        "\n",
        "# Train voting classifier\n",
        "voting_clf.fit(X_train, y_train)\n",
        "print(\"Random Forest Accuracy:\", accuracy_score(y_test, rf_clf.predict(X_test)))\n",
        "print(\"Gradient Boosting Accuracy:\", accuracy_score(y_test, gb_clf.predict(X_test)))\n",
        "print(\"AdaBoost Accuracy:\", accuracy_score(y_test, ada_clf.predict(X_test)))\n",
        "print(\"Logistic Regression Accuracy:\", accuracy_score(y_test, lr_clf.predict(X_test)))\n",
        "print(\"Voting Classifier Accuracy:\", accuracy_score(y_test, voting_clf.predict(X_test)))\n"
      ]
    },
    {
      "cell_type": "code",
<<<<<<< HEAD:part2.ipynb
      "execution_count": 22,
=======
      "execution_count": 19,
>>>>>>> 64e5fd35b2369b71b0d43960fc07567634466a17:main2.ipynb
      "metadata": {
        "colab": {
          "base_uri": "https://localhost:8080/"
        },
        "id": "xniEE95myPHf",
        "outputId": "cbb3aac4-de84-45aa-eadd-fd8ced201c49"
      },
      "outputs": [
        {
          "ename": "NameError",
          "evalue": "name 'precision_score' is not defined",
          "output_type": "error",
          "traceback": [
            "\u001b[1;31m---------------------------------------------------------------------------\u001b[0m",
            "\u001b[1;31mNameError\u001b[0m                                 Traceback (most recent call last)",
            "Cell \u001b[1;32mIn[19], line 11\u001b[0m\n\u001b[0;32m      9\u001b[0m \u001b[38;5;66;03m# Calculating accuracy\u001b[39;00m\n\u001b[0;32m     10\u001b[0m accuracy \u001b[38;5;241m=\u001b[39m accuracy_score(Y_test, Y_pred)\n\u001b[1;32m---> 11\u001b[0m precision\u001b[38;5;241m=\u001b[39m\u001b[43mprecision_score\u001b[49m(Y)\n\u001b[0;32m     12\u001b[0m \u001b[38;5;28mprint\u001b[39m(\u001b[38;5;124m\"\u001b[39m\u001b[38;5;124mAccuracy:\u001b[39m\u001b[38;5;124m\"\u001b[39m, accuracy)\n\u001b[0;32m     13\u001b[0m \u001b[38;5;28mprint\u001b[39m()\n",
            "\u001b[1;31mNameError\u001b[0m: name 'precision_score' is not defined"
          ]
        }
      ],
      "source": [
        "gb_clf = GradientBoostingClassifier()\n",
        "\n",
        "# Training the classifier on the training data\n",
        "gb_clf.fit(X_train, y_train)\n",
        "\n",
        "# Making predictions on the testing data\n",
        "Y_pred = gb_clf.predict(X_test)\n",
        "\n",
        "# Calculating accuracy\n",
<<<<<<< HEAD:part2.ipynb
        "accuracy = accuracy_score(y_test, Y_pred)\n",
        "print(\"Accuracy:\", accuracy)"
=======
        "accuracy = accuracy_score(Y_test, Y_pred)\n",
        "precision=precision_score(Y)\n",
        "print(\"Accuracy:\", accuracy)\n",
        "print()"
>>>>>>> 64e5fd35b2369b71b0d43960fc07567634466a17:main2.ipynb
      ]
    },
    {
      "cell_type": "code",
<<<<<<< HEAD:part2.ipynb
      "execution_count": 23,
=======
      "execution_count": null,
>>>>>>> 64e5fd35b2369b71b0d43960fc07567634466a17:main2.ipynb
      "metadata": {
        "id": "2z4q7-vss_SX"
      },
      "outputs": [],
      "source": [
        "classifier = svm.SVC(kernel='linear')"
      ]
    },
    {
      "cell_type": "code",
<<<<<<< HEAD:part2.ipynb
      "execution_count": 25,
=======
      "execution_count": null,
>>>>>>> 64e5fd35b2369b71b0d43960fc07567634466a17:main2.ipynb
      "metadata": {
        "colab": {
          "base_uri": "https://localhost:8080/",
          "height": 74
        },
        "id": "zFf00aLFtAnS",
        "outputId": "4f72af84-be53-447e-d789-4b2c1d226de9"
      },
      "outputs": [
        {
          "data": {
            "text/html": [
              "<style>#sk-container-id-1 {color: black;background-color: white;}#sk-container-id-1 pre{padding: 0;}#sk-container-id-1 div.sk-toggleable {background-color: white;}#sk-container-id-1 label.sk-toggleable__label {cursor: pointer;display: block;width: 100%;margin-bottom: 0;padding: 0.3em;box-sizing: border-box;text-align: center;}#sk-container-id-1 label.sk-toggleable__label-arrow:before {content: \"▸\";float: left;margin-right: 0.25em;color: #696969;}#sk-container-id-1 label.sk-toggleable__label-arrow:hover:before {color: black;}#sk-container-id-1 div.sk-estimator:hover label.sk-toggleable__label-arrow:before {color: black;}#sk-container-id-1 div.sk-toggleable__content {max-height: 0;max-width: 0;overflow: hidden;text-align: left;background-color: #f0f8ff;}#sk-container-id-1 div.sk-toggleable__content pre {margin: 0.2em;color: black;border-radius: 0.25em;background-color: #f0f8ff;}#sk-container-id-1 input.sk-toggleable__control:checked~div.sk-toggleable__content {max-height: 200px;max-width: 100%;overflow: auto;}#sk-container-id-1 input.sk-toggleable__control:checked~label.sk-toggleable__label-arrow:before {content: \"▾\";}#sk-container-id-1 div.sk-estimator input.sk-toggleable__control:checked~label.sk-toggleable__label {background-color: #d4ebff;}#sk-container-id-1 div.sk-label input.sk-toggleable__control:checked~label.sk-toggleable__label {background-color: #d4ebff;}#sk-container-id-1 input.sk-hidden--visually {border: 0;clip: rect(1px 1px 1px 1px);clip: rect(1px, 1px, 1px, 1px);height: 1px;margin: -1px;overflow: hidden;padding: 0;position: absolute;width: 1px;}#sk-container-id-1 div.sk-estimator {font-family: monospace;background-color: #f0f8ff;border: 1px dotted black;border-radius: 0.25em;box-sizing: border-box;margin-bottom: 0.5em;}#sk-container-id-1 div.sk-estimator:hover {background-color: #d4ebff;}#sk-container-id-1 div.sk-parallel-item::after {content: \"\";width: 100%;border-bottom: 1px solid gray;flex-grow: 1;}#sk-container-id-1 div.sk-label:hover label.sk-toggleable__label {background-color: #d4ebff;}#sk-container-id-1 div.sk-serial::before {content: \"\";position: absolute;border-left: 1px solid gray;box-sizing: border-box;top: 0;bottom: 0;left: 50%;z-index: 0;}#sk-container-id-1 div.sk-serial {display: flex;flex-direction: column;align-items: center;background-color: white;padding-right: 0.2em;padding-left: 0.2em;position: relative;}#sk-container-id-1 div.sk-item {position: relative;z-index: 1;}#sk-container-id-1 div.sk-parallel {display: flex;align-items: stretch;justify-content: center;background-color: white;position: relative;}#sk-container-id-1 div.sk-item::before, #sk-container-id-1 div.sk-parallel-item::before {content: \"\";position: absolute;border-left: 1px solid gray;box-sizing: border-box;top: 0;bottom: 0;left: 50%;z-index: -1;}#sk-container-id-1 div.sk-parallel-item {display: flex;flex-direction: column;z-index: 1;position: relative;background-color: white;}#sk-container-id-1 div.sk-parallel-item:first-child::after {align-self: flex-end;width: 50%;}#sk-container-id-1 div.sk-parallel-item:last-child::after {align-self: flex-start;width: 50%;}#sk-container-id-1 div.sk-parallel-item:only-child::after {width: 0;}#sk-container-id-1 div.sk-dashed-wrapped {border: 1px dashed gray;margin: 0 0.4em 0.5em 0.4em;box-sizing: border-box;padding-bottom: 0.4em;background-color: white;}#sk-container-id-1 div.sk-label label {font-family: monospace;font-weight: bold;display: inline-block;line-height: 1.2em;}#sk-container-id-1 div.sk-label-container {text-align: center;}#sk-container-id-1 div.sk-container {/* jupyter's `normalize.less` sets `[hidden] { display: none; }` but bootstrap.min.css set `[hidden] { display: none !important; }` so we also need the `!important` here to be able to override the default hidden behavior on the sphinx rendered scikit-learn.org. See: https://github.com/scikit-learn/scikit-learn/issues/21755 */display: inline-block !important;position: relative;}#sk-container-id-1 div.sk-text-repr-fallback {display: none;}</style><div id=\"sk-container-id-1\" class=\"sk-top-container\"><div class=\"sk-text-repr-fallback\"><pre>SVC(kernel=&#x27;linear&#x27;)</pre><b>In a Jupyter environment, please rerun this cell to show the HTML representation or trust the notebook. <br />On GitHub, the HTML representation is unable to render, please try loading this page with nbviewer.org.</b></div><div class=\"sk-container\" hidden><div class=\"sk-item\"><div class=\"sk-estimator sk-toggleable\"><input class=\"sk-toggleable__control sk-hidden--visually\" id=\"sk-estimator-id-1\" type=\"checkbox\" checked><label for=\"sk-estimator-id-1\" class=\"sk-toggleable__label sk-toggleable__label-arrow\">SVC</label><div class=\"sk-toggleable__content\"><pre>SVC(kernel=&#x27;linear&#x27;)</pre></div></div></div></div></div>"
            ],
            "text/plain": [
              "SVC(kernel='linear')"
            ]
          },
          "execution_count": 25,
          "metadata": {},
          "output_type": "execute_result"
        }
      ],
      "source": [
        "classifier.fit(X_train,y_train)"
      ]
    },
    {
      "cell_type": "code",
<<<<<<< HEAD:part2.ipynb
      "execution_count": 27,
=======
      "execution_count": null,
>>>>>>> 64e5fd35b2369b71b0d43960fc07567634466a17:main2.ipynb
      "metadata": {
        "id": "8ykAQWkHq7bk"
      },
      "outputs": [],
      "source": [
        "X_train_prediction = classifier.predict(X_train)\n",
        "training_data_accuray = accuracy_score(X_train_prediction,y_train)"
      ]
    },
    {
      "cell_type": "code",
<<<<<<< HEAD:part2.ipynb
      "execution_count": 28,
=======
      "execution_count": null,
>>>>>>> 64e5fd35b2369b71b0d43960fc07567634466a17:main2.ipynb
      "metadata": {
        "colab": {
          "base_uri": "https://localhost:8080/"
        },
        "id": "G2nQF-NBuVW0",
        "outputId": "b0d7bfdd-f100-43b3-83f2-af2b13d20b73"
      },
      "outputs": [
        {
          "name": "stdout",
          "output_type": "stream",
          "text": [
            "Accuracy on training data :  0.8046875\n"
          ]
        }
      ],
      "source": [
        "print('Accuracy on training data : ', training_data_accuray)"
      ]
    },
    {
      "cell_type": "code",
<<<<<<< HEAD:part2.ipynb
      "execution_count": 30,
=======
      "execution_count": null,
>>>>>>> 64e5fd35b2369b71b0d43960fc07567634466a17:main2.ipynb
      "metadata": {
        "id": "L-dIZVbBuYvr"
      },
      "outputs": [],
      "source": [
        "X_test_prediction = classifier.predict(X_test)\n",
        "test_data_accuray = accuracy_score(X_test_prediction,y_test)"
      ]
    },
    {
      "cell_type": "code",
<<<<<<< HEAD:part2.ipynb
      "execution_count": 31,
=======
      "execution_count": null,
>>>>>>> 64e5fd35b2369b71b0d43960fc07567634466a17:main2.ipynb
      "metadata": {
        "colab": {
          "base_uri": "https://localhost:8080/"
        },
        "id": "jBlZUlZducNX",
        "outputId": "1186e01b-2d42-4520-92b7-af31859a6c22"
      },
      "outputs": [
        {
          "name": "stdout",
          "output_type": "stream",
          "text": [
            "Accuracy on test data :  0.8333333333333334\n"
          ]
        }
      ],
      "source": [
        "print('Accuracy on test data : ', test_data_accuray)"
      ]
    },
    {
      "cell_type": "code",
<<<<<<< HEAD:part2.ipynb
      "execution_count": 32,
=======
<<<<<<< HEAD
      "execution_count": null,
=======
      "execution_count": 51,
>>>>>>> cd507e3801a664fdf81f5983fc49e7fb6e6ef30b
>>>>>>> 64e5fd35b2369b71b0d43960fc07567634466a17:main2.ipynb
      "metadata": {
        "colab": {
          "base_uri": "https://localhost:8080/",
          "height": 466
        },
        "id": "ciLF_OLM0gKj",
        "outputId": "f0c1ecc5-1a0a-4724-f7d3-2828be371b83"
      },
      "outputs": [
        {
          "data": {
            "image/png": "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",
            "text/plain": [
              "<Figure size 640x480 with 1 Axes>"
            ]
          },
          "metadata": {},
          "output_type": "display_data"
        },
        {
          "name": "stdout",
          "output_type": "stream",
          "text": [
            "KNN best accuracy: 67.71%\n"
          ]
        }
      ],
      "source": [
        "scoreListknn = []\n",
        "for i in range(1,21):\n",
        "    KNclassifier = KNeighborsClassifier(n_neighbors = i)\n",
        "    KNclassifier.fit(X_train, y_train)\n",
        "    scoreListknn.append(KNclassifier.score(X_test, y_test))\n",
        "\n",
        "plt.plot(range(1,21), scoreListknn)\n",
        "plt.xticks(np.arange(1,21,1))\n",
        "plt.xlabel(\"K value\")\n",
        "plt.ylabel(\"Score\")\n",
        "plt.show()\n",
        "KNAcc = max(scoreListknn)\n",
        "print(\"KNN best accuracy: {:.2f}%\".format(KNAcc*100))\n"
      ]
    },
    {
      "cell_type": "code",
<<<<<<< HEAD:part2.ipynb
      "execution_count": 33,
=======
      "execution_count": null,
>>>>>>> 64e5fd35b2369b71b0d43960fc07567634466a17:main2.ipynb
      "metadata": {
        "colab": {
          "base_uri": "https://localhost:8080/"
        },
        "id": "2Bu33mq23XX_",
        "outputId": "c4492dc5-7c15-4262-b570-8943129643ec"
      },
      "outputs": [
        {
          "name": "stdout",
          "output_type": "stream",
          "text": [
            "Accuracy: 0.8020833333333334\n"
          ]
        }
      ],
      "source": [
        "nb_clf = GaussianNB()\n",
        "\n",
        "# Training the classifier on the training data\n",
        "nb_clf.fit(X_train, y_train)\n",
        "\n",
        "# Making predictions on the testing data\n",
        "Y_pred = nb_clf.predict(X_test)\n",
        "\n",
        "# Calculating accuracy\n",
        "accuracy = accuracy_score(y_test, Y_pred)\n",
        "print(\"Accuracy:\", accuracy)"
      ]
    },
    {
      "cell_type": "code",
<<<<<<< HEAD:part2.ipynb
      "execution_count": 34,
=======
      "execution_count": null,
>>>>>>> 64e5fd35b2369b71b0d43960fc07567634466a17:main2.ipynb
      "metadata": {
        "colab": {
          "base_uri": "https://localhost:8080/"
        },
        "id": "4b2DL_6j38PX",
        "outputId": "e608368c-344e-454a-8d46-b7ad104aa4ba"
      },
      "outputs": [
        {
<<<<<<< HEAD:part2.ipynb
          "name": "stdout",
          "output_type": "stream",
          "text": [
            "              precision    recall  f1-score   support\n",
            "\n",
            "           0       0.74      0.57      0.64        30\n",
            "           1       0.82      0.91      0.86        66\n",
            "\n",
            "    accuracy                           0.80        96\n",
            "   macro avg       0.78      0.74      0.75        96\n",
            "weighted avg       0.80      0.80      0.79        96\n",
            "\n",
            "[[17 13]\n",
            " [ 6 60]]\n",
            "LR accuracy: 80.21%\n"
          ]
        },
        {
          "name": "stderr",
          "output_type": "stream",
          "text": [
            "d:\\Software\\anaconda3\\Lib\\site-packages\\sklearn\\linear_model\\_sag.py:350: ConvergenceWarning: The max_iter was reached which means the coef_ did not converge\n",
            "  warnings.warn(\n"
=======
          "ename": "NameError",
          "evalue": "name 'LogisticRegression' is not defined",
          "output_type": "error",
          "traceback": [
            "\u001b[1;31m---------------------------------------------------------------------------\u001b[0m",
            "\u001b[1;31mNameError\u001b[0m                                 Traceback (most recent call last)",
            "Cell \u001b[1;32mIn[1], line 1\u001b[0m\n\u001b[1;32m----> 1\u001b[0m LRclassifier \u001b[38;5;241m=\u001b[39m \u001b[43mLogisticRegression\u001b[49m(solver\u001b[38;5;241m=\u001b[39m\u001b[38;5;124m'\u001b[39m\u001b[38;5;124msaga\u001b[39m\u001b[38;5;124m'\u001b[39m, max_iter\u001b[38;5;241m=\u001b[39m\u001b[38;5;241m500\u001b[39m, random_state\u001b[38;5;241m=\u001b[39m\u001b[38;5;241m1\u001b[39m)\n\u001b[0;32m      2\u001b[0m LRclassifier\u001b[38;5;241m.\u001b[39mfit(X_train, Y_train)\n\u001b[0;32m      4\u001b[0m _Ypred \u001b[38;5;241m=\u001b[39m LRclassifier\u001b[38;5;241m.\u001b[39mpredict(X_test)\n",
            "\u001b[1;31mNameError\u001b[0m: name 'LogisticRegression' is not defined"
>>>>>>> 64e5fd35b2369b71b0d43960fc07567634466a17:main2.ipynb
          ]
        }
      ],
      "source": [
        "LRclassifier = LogisticRegression(solver='saga', max_iter=500, random_state=1)\n",
        "LRclassifier.fit(X_train, y_train)\n",
        "\n",
        "_Ypred = LRclassifier.predict(X_test)\n",
        "\n",
<<<<<<< HEAD:part2.ipynb
        "print(classification_report(y_test, Y_pred))\n",
        "print(confusion_matrix(y_test, Y_pred))\n",
=======
        "print(classification_report(Y_test, Y_pred))\n",
        "print(confusion_matrix(Y_test, Y_pred))\n",
        "print(precision_score(Y_test, Y_pred))\n",
>>>>>>> 64e5fd35b2369b71b0d43960fc07567634466a17:main2.ipynb
        "\n",
        "from sklearn.metrics import accuracy_score\n",
        "LRAcc = accuracy_score(Y_pred,y_test)\n",
        "print('LR accuracy: {:.2f}%'.format(LRAcc*100))"
      ]
    },
    {
      "cell_type": "code",
<<<<<<< HEAD:part2.ipynb
      "execution_count": 35,
=======
      "execution_count": null,
>>>>>>> 64e5fd35b2369b71b0d43960fc07567634466a17:main2.ipynb
      "metadata": {
        "colab": {
          "base_uri": "https://localhost:8080/"
        },
        "id": "t_p42tix7fq9",
        "outputId": "69aeb01a-9a48-4d81-8933-d51c1d114ac3"
      },
      "outputs": [],
      "source": [
        "scoreListRF = []\n",
        "for i in range(2,25):\n",
        "    RFclassifier = RandomForestClassifier(n_estimators = 1000, random_state = 1, max_leaf_nodes=i)\n",
        "    RFclassifier.fit(X_train, y_train)\n",
        "    scoreListRF.append(RFclassifier.score(X_test, Y_test))\n",
        "    RFAcc = max(scoreListRF)\n",
        "print(\"Random Forest Accuracy:  {:.2f}%\".format(RFAcc*100))"
      ]
    },
    {
      "cell_type": "code",
      "execution_count": null,
      "metadata": {},
      "outputs": [],
      "source": []
    }
  ],
  "metadata": {
    "colab": {
      "provenance": []
    },
    "kernelspec": {
      "display_name": "Python 3",
      "name": "python3"
    },
    "language_info": {
      "codemirror_mode": {
        "name": "ipython",
        "version": 3
      },
      "file_extension": ".py",
      "mimetype": "text/x-python",
      "name": "python",
      "nbconvert_exporter": "python",
      "pygments_lexer": "ipython3",
<<<<<<< HEAD:part2.ipynb
      "version": "3.11.4"
=======
      "version": "3.10.11"
>>>>>>> 64e5fd35b2369b71b0d43960fc07567634466a17:main2.ipynb
    }
  },
  "nbformat": 4,
  "nbformat_minor": 0
}
